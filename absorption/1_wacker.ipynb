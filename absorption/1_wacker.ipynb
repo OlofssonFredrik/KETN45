{
 "cells": [
  {
   "cell_type": "code",
   "execution_count": 4,
   "metadata": {},
   "outputs": [],
   "source": [
    "import numpy as np\n",
    "from scipy.optimize import fsolve\n",
    "import matplotlib.pyplot as plt"
   ]
  },
  {
   "cell_type": "code",
   "execution_count": 5,
   "metadata": {},
   "outputs": [],
   "source": [
    "V_in_v = 250000 #m3/h\n",
    "\n",
    "y_in = 0.0004 #molefrac\n",
    "y_out = 0.01*y_in\n",
    "\n",
    "C_per_in = 4 #mol/L \n",
    "\n",
    "P = 101325 #pa\n",
    "T = 293.15 #K\n",
    "ag = 150 #m2/m3 \n",
    "k_A_g = 1.2*10**-5 #mol/m2Pas \n",
    "k_A_L = 8.9*10**-5 #m/s\n",
    "D_no = 1.5*10**-9 #m2/s\n",
    "D_per = 1*10**-9 #m2/s\n",
    "H_no = 4.76*10**4 #m3Pa/mol \n",
    "k_r = 700 #m3/mol/s"
   ]
  },
  {
   "cell_type": "code",
   "execution_count": 6,
   "metadata": {},
   "outputs": [
    {
     "name": "stdout",
     "output_type": "stream",
     "text": [
      "0.011465790003839012\n",
      "9.126105382609786\n"
     ]
    }
   ],
   "source": [
    "ntot_g = P*V_in_v/(8.3145*T) #mol/hr tot\n",
    "n_transferred_no = ntot_g*(y_in-y_out) #mol/hr NO \n",
    "\n",
    "b = 1.3\n",
    "\n",
    "n_per = n_transferred_no*b #mol/hr Per\n",
    "\n",
    "L_flowrate = n_per/C_per_in/1000\n",
    "C_no_start_L = 0 \n",
    "C_no_end_L = n_transferred_no/L_flowrate\n",
    "P_no_end_L = C_no_end_L*H_no\n",
    "#Fast reaction since k>700. gamma=E\n",
    "gamma = np.sqrt(k_r*D_no*C_per_in)/k_A_L\n",
    "E = gamma\n",
    "P_no_end  = y_out*P\n",
    "P_no_start = y_in*P\n",
    "deltaP = P_no_end-P_no_start\n",
    "K_AG = 1/(1/k_A_g+H_no/(E*k_A_L)) #mol/m2/Pas\n",
    "P_logavg = (deltaP+P_no_end_L)/(np.log(deltaP/(-P_no_end)))\n",
    "#N_A  = E*k_AG*(Ci-CL)\n",
    "#\n",
    "#at the outlet of vapour, the conc in the Liquid is 0 \n",
    "#the conc in the liquid is basically always 0 due to the fast reaction\n",
    "N_A_avg = K_AG*P_logavg\n",
    "\n",
    "#Assume 70% wetting \n",
    "a = 0.7*ag\n",
    "Liquid_velocity = 0.0003 #m/s\n",
    "Gas_flooding_velocity = (5/np.sqrt(ag))*np.log(2/(3*Liquid_velocity*np.sqrt(ag)))\n",
    "Gas_velocity = 0.5*Gas_flooding_velocity #m/s\n",
    "Cross_section_area = V_in_v/(Gas_velocity*3600) # m2\n",
    "Cross_section_diameter = np.sqrt(Cross_section_area/np.pi)*2 \n",
    "\n",
    "#The retention time should correspond to the time it takes for all the moles to transfer to the liquid stream \n",
    "# eq 1: N_A_avg*A_transfer*t = n_transferred \n",
    "# rewritten: N_A_avg * a * Vtot * t = n_transferred \n",
    "# or: N_a_avg * a * Cross_section_area * h * h/Velocity = n_transferred \n",
    "\n",
    "h = np.sqrt((n_transferred_no*Liquid_velocity)/(N_A_avg*a*Cross_section_area))\n",
    "print(h)\n",
    "print(Cross_section_diameter)"
   ]
  }
 ],
 "metadata": {
  "kernelspec": {
   "display_name": "Python 3",
   "language": "python",
   "name": "python3"
  },
  "language_info": {
   "codemirror_mode": {
    "name": "ipython",
    "version": 3
   },
   "file_extension": ".py",
   "mimetype": "text/x-python",
   "name": "python",
   "nbconvert_exporter": "python",
   "pygments_lexer": "ipython3",
   "version": "3.11.5"
  },
  "orig_nbformat": 4
 },
 "nbformat": 4,
 "nbformat_minor": 2
}
