{
 "cells": [
  {
   "cell_type": "code",
   "execution_count": 11,
   "metadata": {},
   "outputs": [],
   "source": [
    "#imports\n",
    "import numpy as np"
   ]
  },
  {
   "cell_type": "code",
   "execution_count": 12,
   "metadata": {},
   "outputs": [],
   "source": [
    "#constants\n",
    "\n",
    "F = V0G = 250000 #Nm3/h\n",
    "raw_gas = 400 #ppm\n",
    "#counter currenter, 90% removed, packed column, 20 degrees, 1 atm\n",
    "#absorption: potassium permanganate, stored at a concentration of 4M\n",
    "Feed_absorption = 1.3\n",
    "a = 150\n",
    "k_AG = 1.2*10**-5\n",
    "k_AL = 8.9*10**-5\n",
    "D_NO = 1.5*10**-9\n",
    "D_per = 1*10**-9\n",
    "H_NO = 4.76*10**4\n",
    "P = 1\n",
    "#P_AG = \n",
    "C_NO = 0.00962 #FROM CHATGPT\n",
    "T = 293\n",
    "R = 8.314\n",
    "P_ab = P_AG = C_NO*R*T\n",
    "#SÖKS: Area, height, concentrations, flows\n",
    "Pat = 0.1*P_ab "
   ]
  },
  {
   "cell_type": "code",
   "execution_count": 13,
   "metadata": {},
   "outputs": [
    {
     "name": "stdout",
     "output_type": "stream",
     "text": [
      "G_g = 102.62717354090843\n",
      "K_AG = 1.86945661477816e-09\n",
      "NA = 4.3809480505173394e-08\n"
     ]
    }
   ],
   "source": [
    "G_g = (F*P)/(R*T)\n",
    "K_AG = 1 / ((1/k_AG)+H_NO/k_AL)\n",
    "NA = K_AG * P_AG\n",
    "print(f\"G_g = {G_g}\")\n",
    "print(f\"K_AG = {K_AG}\")\n",
    "print(f\"NA = {NA}\")"
   ]
  },
  {
   "cell_type": "code",
   "execution_count": 14,
   "metadata": {},
   "outputs": [
    {
     "ename": "NameError",
     "evalue": "name 'Pab' is not defined",
     "output_type": "error",
     "traceback": [
      "\u001b[1;31m---------------------------------------------------------------------------\u001b[0m",
      "\u001b[1;31mNameError\u001b[0m                                 Traceback (most recent call last)",
      "\u001b[1;32mc:\\Users\\olofs\\Github\\KETN45\\absorption\\uppg1.ipynb Cell 4\u001b[0m line \u001b[0;36m3\n\u001b[0;32m      <a href='vscode-notebook-cell:/c%3A/Users/olofs/Github/KETN45/absorption/uppg1.ipynb#W2sZmlsZQ%3D%3D?line=0'>1</a>\u001b[0m \u001b[39m#formulas\u001b[39;00m\n\u001b[1;32m----> <a href='vscode-notebook-cell:/c%3A/Users/olofs/Github/KETN45/absorption/uppg1.ipynb#W2sZmlsZQ%3D%3D?line=2'>3</a>\u001b[0m h \u001b[39m=\u001b[39m G_g \u001b[39m/\u001b[39m (P \u001b[39m*\u001b[39m a) \u001b[39m*\u001b[39m (Pab\u001b[39m-\u001b[39mPat)\u001b[39m/\u001b[39mNA\n\u001b[0;32m      <a href='vscode-notebook-cell:/c%3A/Users/olofs/Github/KETN45/absorption/uppg1.ipynb#W2sZmlsZQ%3D%3D?line=4'>5</a>\u001b[0m A \u001b[39m=\u001b[39m Q_g \u001b[39m/\u001b[39m F\n",
      "\u001b[1;31mNameError\u001b[0m: name 'Pab' is not defined"
     ]
    }
   ],
   "source": [
    "#formulas\n",
    "\n",
    "h = G_g / (P * a) * (Pab-Pat)/NA\n",
    "\n",
    "A = Q_g / F"
   ]
  }
 ],
 "metadata": {
  "kernelspec": {
   "display_name": "Python 3",
   "language": "python",
   "name": "python3"
  },
  "language_info": {
   "codemirror_mode": {
    "name": "ipython",
    "version": 3
   },
   "file_extension": ".py",
   "mimetype": "text/x-python",
   "name": "python",
   "nbconvert_exporter": "python",
   "pygments_lexer": "ipython3",
   "version": "3.11.5"
  },
  "orig_nbformat": 4
 },
 "nbformat": 4,
 "nbformat_minor": 2
}
