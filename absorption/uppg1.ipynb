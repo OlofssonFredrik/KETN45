{
 "cells": [
  {
   "cell_type": "code",
   "execution_count": 36,
   "metadata": {},
   "outputs": [],
   "source": [
    "#imports\n",
    "import numpy as np"
   ]
  },
  {
   "cell_type": "code",
   "execution_count": 37,
   "metadata": {},
   "outputs": [],
   "source": [
    "#constants\n",
    "\n",
    "F = V0G = 250000/3600 #Nm3/h\n",
    "raw_gas = 400 #ppm\n",
    "#counter currenter, 90% removed, packed column, 20 degrees, 1 atm\n",
    "#absorption: potassium permanganate, stored at a concentration of 4M\n",
    "Feed_absorption = 1.3\n",
    "a = 150\n",
    "k_AG = 1.2*10**-5\n",
    "k_AL = 8.9*10**-5\n",
    "D_NO = 1.5*10**-9\n",
    "D_per = 1*10**-9\n",
    "H_NO = 4.76*10**4\n",
    "P = 1\n",
    "#P_AG = \n",
    "C_NO = 22.7*40/1e6\n",
    "T = 293\n",
    "R = 8.314\n",
    "P_ab = P_AG = C_NO*R*T\n",
    "#SÖKS: Area, height, concentrations, flows\n",
    "P_at = 0.1*P_ab "
   ]
  },
  {
   "cell_type": "code",
   "execution_count": 38,
   "metadata": {},
   "outputs": [
    {
     "name": "stdout",
     "output_type": "stream",
     "text": [
      "G_g = 0.028507548205807896\n",
      "K_AG = 1.86945661477816e-09\n",
      "NA = 4.135032047681647e-09\n"
     ]
    }
   ],
   "source": [
    "G_g = (F*P)/(R*T)\n",
    "K_AG = 1 / ((1/k_AG)+(H_NO/k_AL))\n",
    "NA = K_AG * P_AG\n",
    "print(f\"G_g = {G_g}\")\n",
    "print(f\"K_AG = {K_AG}\")\n",
    "print(f\"NA = {NA}\")"
   ]
  },
  {
   "cell_type": "code",
   "execution_count": 39,
   "metadata": {},
   "outputs": [
    {
     "name": "stdout",
     "output_type": "stream",
     "text": [
      "h = 91494.65565701002\n"
     ]
    }
   ],
   "source": [
    "#formulas\n",
    "h = G_g / (P * a) * (P_ab-P_at)/NA\n",
    "print(f\"h = {h}\")\n",
    "#A = Q_g / F"
   ]
  }
 ],
 "metadata": {
  "kernelspec": {
   "display_name": "Python 3",
   "language": "python",
   "name": "python3"
  },
  "language_info": {
   "codemirror_mode": {
    "name": "ipython",
    "version": 3
   },
   "file_extension": ".py",
   "mimetype": "text/x-python",
   "name": "python",
   "nbconvert_exporter": "python",
   "pygments_lexer": "ipython3",
   "version": "3.11.5"
  },
  "orig_nbformat": 4
 },
 "nbformat": 4,
 "nbformat_minor": 2
}
