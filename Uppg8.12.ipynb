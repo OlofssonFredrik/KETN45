{
 "cells": [
  {
   "cell_type": "code",
   "execution_count": 2,
   "metadata": {},
   "outputs": [],
   "source": [
    "import numpy as np\n",
    "#import fsolve\n",
    "from scipy.optimize import fsolve"
   ]
  },
  {
   "cell_type": "code",
   "execution_count": 15,
   "metadata": {},
   "outputs": [
    {
     "name": "stdout",
     "output_type": "stream",
     "text": [
      "init_guess: 1, sol: [1.]\n",
      "init_guess: 2, sol: [2.31926458]\n",
      "init_guess: 3, sol: [2.31926458]\n",
      "init_guess: 4, sol: [5.40446631]\n",
      "init_guess: 5, sol: [5.40446631]\n",
      "init_guess: 6, sol: [5.40446631]\n",
      "init_guess: 7, sol: [5.40446631]\n",
      "init_guess: 8, sol: [14.25902398]\n",
      "==================================================\n",
      "SOLUTIONS FOUND\n",
      "Rm: 1.5157785894998383, Teta: [14.25902398]\n",
      "==================================================\n"
     ]
    },
    {
     "name": "stderr",
     "output_type": "stream",
     "text": [
      "C:\\Users\\olofs\\AppData\\Local\\Temp\\ipykernel_35640\\2517150114.py:21: RuntimeWarning: divide by zero encountered in divide\n",
      "  return np.sum((aij*xf_vector)/(aij-teta))\n",
      "C:\\Users\\olofs\\AppData\\Local\\Temp\\ipykernel_35640\\2517150114.py:24: RuntimeWarning: invalid value encountered in divide\n",
      "  return np.sum((aij*xD)/(aij-teta))\n"
     ]
    }
   ],
   "source": [
    "# uppgift B\n",
    "F = 100\n",
    "F_Ethane = 5\n",
    "F_Propane = 25\n",
    "F_Butane = 30\n",
    "F_Pentane = 20\n",
    "F_Hexane = 20\n",
    "\n",
    "xf_Ethane =  F_Ethane/F\n",
    "xf_Propane = F_Propane/F\n",
    "xf_Butane =  F_Butane/F\n",
    "xf_Pentane =  F_Pentane/F\n",
    "xf_Hexane =  F_Hexane/F\n",
    "\n",
    "xf_vector = np.array([xf_Ethane, xf_Propane, xf_Butane, xf_Pentane, xf_Hexane])\n",
    "xD = np.array([0.1574, 0.74, 0.094, 0.0005, 0])\n",
    "\n",
    "aij = np.array([16,7.81, 3.83, 1.94, 1.00])\n",
    "\n",
    "def object_func(teta):\n",
    "    return np.sum((aij*xf_vector)/(aij-teta))\n",
    "\n",
    "def object_func_xD(teta):\n",
    "    return np.sum((aij*xD)/(aij-teta))\n",
    "\n",
    "init_guesses = np.array(range(1, 16, 1))\n",
    "\n",
    "for init_guess in init_guesses:\n",
    "    sol = fsolve(object_func, init_guess)\n",
    "    print(f\"init_guess: {init_guess}, sol: {sol}\")\n",
    "\n",
    "\n",
    "    Rm = object_func_xD(sol) + 1\n",
    "    if Rm > 1.3 and Rm < 1.6:\n",
    "        print('='*50)\n",
    "        print(f\"SOLUTIONS FOUND\")\n",
    "        print(f\"Rm: {Rm}, Teta: {sol}\")\n",
    "        print('='*50)\n",
    "        break\n",
    "       \n",
    "\n",
    "\n",
    "\n"
   ]
  }
 ],
 "metadata": {
  "kernelspec": {
   "display_name": "Python 3",
   "language": "python",
   "name": "python3"
  },
  "language_info": {
   "codemirror_mode": {
    "name": "ipython",
    "version": 3
   },
   "file_extension": ".py",
   "mimetype": "text/x-python",
   "name": "python",
   "nbconvert_exporter": "python",
   "pygments_lexer": "ipython3",
   "version": "3.11.5"
  },
  "orig_nbformat": 4
 },
 "nbformat": 4,
 "nbformat_minor": 2
}
