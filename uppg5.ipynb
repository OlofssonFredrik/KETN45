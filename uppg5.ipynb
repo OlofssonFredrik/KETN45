{
 "cells": [
  {
   "cell_type": "code",
   "execution_count": 58,
   "metadata": {},
   "outputs": [],
   "source": [
    "import numpy as np\n",
    "import matplotlib.pyplot as plt\n",
    "from scipy.optimize import fsolve\n",
    "import json\n",
    "import plotly.graph_objects as go"
   ]
  },
  {
   "cell_type": "code",
   "execution_count": 59,
   "metadata": {},
   "outputs": [],
   "source": [
    "#Constants\n",
    "\n",
    "R = 8.314\n",
    "P = 1 #atm\n",
    "\n",
    "A_but = 9.9614\n",
    "B_but = 2664.0939\n",
    "C_but = -104.881\n",
    "A_h2O = 11.9647\n",
    "B_h2O = 3984.9273\n",
    "C_h2O = -39.734\n",
    "\n",
    "g12_g22 = 1034.3\n",
    "g21_g11 = 10098.50\n",
    "aij = 0.4118"
   ]
  },
  {
   "cell_type": "code",
   "execution_count": 60,
   "metadata": {},
   "outputs": [],
   "source": [
    "#Functions \n",
    "\n",
    "def molfrac_vapor(T, x):\n",
    "    x_but = x\n",
    "    x_h2O = 1 - x\n",
    "\n",
    "    tau_12 = g12_g22 / (R * T)\n",
    "    tau_21 = g21_g11 / (R * T)\n",
    "\n",
    "    G_12 = np.exp(-aij * tau_12)\n",
    "    G_21 = np.exp(-aij * tau_21)\n",
    "\n",
    "    gamma_but = np.exp(x_h2O**2 * (tau_21 * (G_21 / (x_but + x_h2O * G_21))**2 + (tau_12 * G_12) / (x_h2O + x_but * G_12)**2))\n",
    "    gamma_h2O = np.exp(x_but**2 * (tau_12 * (G_12 / (x_h2O + x_but * G_12))**2 + (tau_21 * G_21) / (x_but + x_h2O * G_21)**2))\n",
    "    \n",
    "    Psat_but = np.exp(A_but - B_but / (T + C_but))\n",
    "    Psat_h2O = np.exp(A_h2O - B_h2O / (T + C_h2O))\n",
    "    \n",
    "    y_but = gamma_but * x_but * Psat_but / P\n",
    "    y_h2O = gamma_h2O * x_h2O * Psat_h2O / P\n",
    "    \n",
    "    sum_y = y_but + y_h2O\n",
    "    \n",
    "    return sum_y - 1, y_but, y_h2O\n",
    "\n",
    "def wrapper(T, x):\n",
    "    sum_y, _, _ = molfrac_vapor(T, x)\n",
    "    return sum_y"
   ]
  },
  {
   "cell_type": "code",
   "execution_count": 67,
   "metadata": {},
   "outputs": [
    {
     "ename": "TypeError",
     "evalue": "'float' object cannot be interpreted as an integer",
     "output_type": "error",
     "traceback": [
      "\u001b[1;31m---------------------------------------------------------------------------\u001b[0m",
      "\u001b[1;31mTypeError\u001b[0m                                 Traceback (most recent call last)",
      "Cell \u001b[1;32mIn[67], line 1\u001b[0m\n\u001b[1;32m----> 1\u001b[0m \u001b[39mprint\u001b[39m([\u001b[39mrange\u001b[39;49m(\u001b[39m0\u001b[39;49m, \u001b[39m1\u001b[39;49m, \u001b[39m0.1\u001b[39;49m)])\n",
      "\u001b[1;31mTypeError\u001b[0m: 'float' object cannot be interpreted as an integer"
     ]
    }
   ],
   "source": [
    "print([range(0, 1, 0.1)])"
   ]
  },
  {
   "cell_type": "code",
   "execution_count": 71,
   "metadata": {},
   "outputs": [
    {
     "name": "stdout",
     "output_type": "stream",
     "text": [
      "{\n",
      "    \"0.05\": {\n",
      "        \"Tsol\": 359.73323601836034,\n",
      "        \"y_but\": 0.4014598063537517,\n",
      "        \"y_h2O\": 0.5985401936462502\n",
      "    },\n",
      "    \"0.1\": {\n",
      "        \"Tsol\": 359.88368534682684,\n",
      "        \"y_but\": 0.3965379886573202,\n",
      "        \"y_h2O\": 0.6034620113426815\n",
      "    },\n",
      "    \"0.15000000000000002\": {\n",
      "        \"Tsol\": 360.46383585677205,\n",
      "        \"y_but\": 0.37625972472854746,\n",
      "        \"y_h2O\": 0.6237402752714538\n",
      "    },\n",
      "    \"0.2\": {\n",
      "        \"Tsol\": 360.77078263149,\n",
      "        \"y_but\": 0.3622094627932819,\n",
      "        \"y_h2O\": 0.6377905372067194\n",
      "    },\n",
      "    \"0.25\": {\n",
      "        \"Tsol\": 360.8713965303553,\n",
      "        \"y_but\": 0.3557399338961283,\n",
      "        \"y_h2O\": 0.644260066103873\n",
      "    },\n",
      "    \"0.3\": {\n",
      "        \"Tsol\": 360.8740968471633,\n",
      "        \"y_but\": 0.35574641589947564,\n",
      "        \"y_h2O\": 0.644253584100524\n",
      "    },\n",
      "    \"0.35000000000000003\": {\n",
      "        \"Tsol\": 360.8564125146925,\n",
      "        \"y_but\": 0.36110001229465455,\n",
      "        \"y_h2O\": 0.6388999877053448\n",
      "    },\n",
      "    \"0.4\": {\n",
      "        \"Tsol\": 360.8680536208072,\n",
      "        \"y_but\": 0.3710041767407786,\n",
      "        \"y_h2O\": 0.6289958232592215\n",
      "    },\n",
      "    \"0.45\": {\n",
      "        \"Tsol\": 360.9408532047195,\n",
      "        \"y_but\": 0.38499180447536435,\n",
      "        \"y_h2O\": 0.6150081955246369\n",
      "    },\n",
      "    \"0.5\": {\n",
      "        \"Tsol\": 361.09647246103924,\n",
      "        \"y_but\": 0.4028758183782442,\n",
      "        \"y_h2O\": 0.5971241816217561\n",
      "    },\n",
      "    \"0.55\": {\n",
      "        \"Tsol\": 361.35158787047465,\n",
      "        \"y_but\": 0.4247151607808049,\n",
      "        \"y_h2O\": 0.5752848392191963\n",
      "    },\n",
      "    \"0.6000000000000001\": {\n",
      "        \"Tsol\": 361.7214071790552,\n",
      "        \"y_but\": 0.45080733112441496,\n",
      "        \"y_h2O\": 0.5491926688755865\n",
      "    },\n",
      "    \"0.6500000000000001\": {\n",
      "        \"Tsol\": 362.2222709070751,\n",
      "        \"y_but\": 0.4817105666710883,\n",
      "        \"y_h2O\": 0.5182894333289135\n",
      "    },\n",
      "    \"0.7000000000000001\": {\n",
      "        \"Tsol\": 362.8739083934606,\n",
      "        \"y_but\": 0.5183016362792094,\n",
      "        \"y_h2O\": 0.4816983637207909\n",
      "    },\n",
      "    \"0.7500000000000001\": {\n",
      "        \"Tsol\": 363.7018201548589,\n",
      "        \"y_but\": 0.5618830817199512,\n",
      "        \"y_h2O\": 0.4381169182800467\n",
      "    },\n",
      "    \"0.8\": {\n",
      "        \"Tsol\": 364.74028345166056,\n",
      "        \"y_but\": 0.6143680834594843,\n",
      "        \"y_h2O\": 0.3856319165405131\n",
      "    },\n",
      "    \"0.8500000000000001\": {\n",
      "        \"Tsol\": 366.0366649709217,\n",
      "        \"y_but\": 0.6785987175526879,\n",
      "        \"y_h2O\": 0.3214012824476767\n",
      "    },\n",
      "    \"0.9000000000000001\": {\n",
      "        \"Tsol\": 367.6581891742753,\n",
      "        \"y_but\": 0.7589110607686284,\n",
      "        \"y_h2O\": 0.2410889392313825\n",
      "    },\n",
      "    \"0.9500000000000001\": {\n",
      "        \"Tsol\": 369.703361051867,\n",
      "        \"y_but\": 0.8621918725127645,\n",
      "        \"y_h2O\": 0.13780812748723614\n",
      "    }\n",
      "}\n",
      "Mean Tsol: 362.44043779925653\n"
     ]
    }
   ],
   "source": [
    "# Calculate the solutions for each x value\n",
    "#x_values = [0.1, 0.2, 0.3, 0.4, 0.5, 0.6, 0.7, 0.8, 0.9]\n",
    "x_values = np.arange(0.05, 1, 0.05)\n",
    "solutions = {}  # Dictionary to store solutions\n",
    "initial_guess = 373  # Kelvin\n",
    "\n",
    "for i, x in enumerate(x_values):\n",
    "    sol, = fsolve(wrapper, initial_guess, args=(x,))\n",
    "    _, y_but, y_h2O = molfrac_vapor(sol, x)\n",
    "    \n",
    "    # Create a dictionary for this x value and store it in the solutions dictionary\n",
    "    solutions[x] = {\n",
    "        'Tsol': sol,\n",
    "        'y_but': y_but,\n",
    "        'y_h2O': y_h2O\n",
    "    }\n",
    "\n",
    "# Pretty-print the solutions dictionary\n",
    "print(json.dumps(solutions, indent=4))\n",
    "\n",
    "# If you want to calculate the mean temperature\n",
    "mean_T = np.mean([sol_dict['Tsol'] for sol_dict in solutions.values()])\n",
    "print(f\"Mean Tsol: {mean_T}\")"
   ]
  },
  {
   "cell_type": "code",
   "execution_count": 87,
   "metadata": {},
   "outputs": [
    {
     "name": "stdout",
     "output_type": "stream",
     "text": [
      "x: 0.05\n",
      "x: 0.1\n",
      "x: 0.15000000000000002\n",
      "x: 0.2\n",
      "x: 0.25\n",
      "x: 0.3\n",
      "x: 0.35000000000000003\n",
      "x: 0.4\n",
      "x: 0.45\n",
      "x: 0.5\n",
      "x: 0.55\n",
      "x: 0.6000000000000001\n",
      "x: 0.6500000000000001\n",
      "x: 0.7000000000000001\n",
      "x: 0.7500000000000001\n",
      "x: 0.8\n",
      "x: 0.8500000000000001\n",
      "x: 0.9000000000000001\n",
      "x: 0.9500000000000001\n"
     ]
    },
    {
     "data": {
      "text/plain": [
       "Text(0, 0.5, 'Fraction of water in vapor phase')"
      ]
     },
     "execution_count": 87,
     "metadata": {},
     "output_type": "execute_result"
    },
    {
     "data": {
      "image/png": "[encoded data removed]",
      "text/plain": [
       "<Figure size 1400x500 with 2 Axes>"
      ]
     },
     "metadata": {},
     "output_type": "display_data"
    }
   ],
   "source": [
    "# Plot x vs y\n",
    "fig, axs = plt.subplots(1,2, figsize=(14,5))\n",
    "for x, sol_dict in solutions.items():\n",
    "    print(f\"x: {x}\")\n",
    "    axs[0].plot(x, sol_dict['y_but'], marker='o', color='red')\n",
    "    axs[1].plot(1-x, sol_dict['y_h2O'], marker='o', color='blue')\n",
    "\n",
    "axs[0].set_title('Vapor composition vs. liquid composition') \n",
    "axs[0].legend(['Butanol'])\n",
    "axs[0].set_xlabel('Fraction of butanol in liquid phase')\n",
    "axs[0].set_ylabel('Fraction of butanol in vapor phase')\n",
    "\n",
    "axs[1].set_title('Vapor composition vs. liquid composition')\n",
    "axs[1].legend(['Water'])\n",
    "axs[1].set_xlabel('Fraction of water in liquid phase')\n",
    "axs[1].set_ylabel('Fraction of water in vapor phase')\n",
    "\n"
   ]
  },
  {
   "cell_type": "code",
   "execution_count": 63,
   "metadata": {},
   "outputs": [
    {
     "data": {
      "application/vnd.plotly.v1+json": {
       "config": {
        "plotlyServerURL": "https://plot.ly"
       },
       "data": [
        {
         "marker": {
          "color": "red",
          "size": 6
         },
         "mode": "markers",
         "name": "y_but",
         "type": "scatter3d",
         "x": [
          0.1,
          0.2,
          0.3,
          0.4,
          0.5,
          0.6,
          0.7,
          0.8,
          0.9
         ],
         "y": [
          0.3965379886573202,
          0.3622094627932819,
          0.35574641589947564,
          0.3710041767407786,
          0.4028758183782442,
          0.4508073311244149,
          0.5183016362792094,
          0.6143680834594843,
          0.7589110607686282
         ],
         "z": [
          359.88368534682684,
          360.77078263149,
          360.8740968471633,
          360.8680536208072,
          361.09647246103924,
          361.7214071790552,
          362.8739083934606,
          364.74028345166056,
          367.6581891742754
         ]
        },
        {
         "marker": {
          "color": "blue",
          "size": 6
         },
         "mode": "markers",
         "name": "y_h2O",
         "type": "scatter3d",
         "x": [
          0.1,
          0.2,
          0.3,
          0.4,
          0.5,
          0.6,
          0.7,
          0.8,
          0.9
         ],
         "y": [
          0.6034620113426815,
          0.6377905372067194,
          0.644253584100524,
          0.6289958232592215,
          0.5971241816217561,
          0.5491926688755865,
          0.48169836372079095,
          0.3856319165405131,
          0.24108893923138355
         ],
         "z": [
          359.88368534682684,
          360.77078263149,
          360.8740968471633,
          360.8680536208072,
          361.09647246103924,
          361.7214071790552,
          362.8739083934606,
          364.74028345166056,
          367.6581891742754
         ]
        }
       ],
       "layout": {
        "height": 600,
        "scene": {
         "xaxis": {
          "title": {
           "text": "x"
          }
         },
         "yaxis": {
          "title": {
           "text": "y"
          }
         },
         "zaxis": {
          "title": {
           "text": "Tsol"
          }
         }
        },
        "template": {
         "data": {
          "bar": [
           {
            "error_x": {
             "color": "#2a3f5f"
            },
            "error_y": {
             "color": "#2a3f5f"
            },
            "marker": {
             "line": {
              "color": "#E5ECF6",
              "width": 0.5
             },
             "pattern": {
              "fillmode": "overlay",
              "size": 10,
              "solidity": 0.2
             }
            },
            "type": "bar"
           }
          ],
          "barpolar": [
           {
            "marker": {
             "line": {
              "color": "#E5ECF6",
              "width": 0.5
             },
             "pattern": {
              "fillmode": "overlay",
              "size": 10,
              "solidity": 0.2
             }
            },
            "type": "barpolar"
           }
          ],
          "carpet": [
           {
            "aaxis": {
             "endlinecolor": "#2a3f5f",
             "gridcolor": "white",
             "linecolor": "white",
             "minorgridcolor": "white",
             "startlinecolor": "#2a3f5f"
            },
            "baxis": {
             "endlinecolor": "#2a3f5f",
             "gridcolor": "white",
             "linecolor": "white",
             "minorgridcolor": "white",
             "startlinecolor": "#2a3f5f"
            },
            "type": "carpet"
           }
          ],
          "choropleth": [
           {
            "colorbar": {
             "outlinewidth": 0,
             "ticks": ""
            },
            "type": "choropleth"
           }
          ],
          "contour": [
           {
            "colorbar": {
             "outlinewidth": 0,
             "ticks": ""
            },
            "colorscale": [
             [
              0,
              "#0d0887"
             ],
             [
              0.1111111111111111,
              "#46039f"
             ],
             [
              0.2222222222222222,
              "#7201a8"
             ],
             [
              0.3333333333333333,
              "#9c179e"
             ],
             [
              0.4444444444444444,
              "#bd3786"
             ],
             [
              0.5555555555555556,
              "#d8576b"
             ],
             [
              0.6666666666666666,
              "#ed7953"
             ],
             [
              0.7777777777777778,
              "#fb9f3a"
             ],
             [
              0.8888888888888888,
              "#fdca26"
             ],
             [
              1,
              "#f0f921"
             ]
            ],
            "type": "contour"
           }
          ],
          "contourcarpet": [
           {
            "colorbar": {
             "outlinewidth": 0,
             "ticks": ""
            },
            "type": "contourcarpet"
           }
          ],
          "heatmap": [
           {
            "colorbar": {
             "outlinewidth": 0,
             "ticks": ""
            },
            "colorscale": [
             [
              0,
              "#0d0887"
             ],
             [
              0.1111111111111111,
              "#46039f"
             ],
             [
              0.2222222222222222,
              "#7201a8"
             ],
             [
              0.3333333333333333,
              "#9c179e"
             ],
             [
              0.4444444444444444,
              "#bd3786"
             ],
             [
              0.5555555555555556,
              "#d8576b"
             ],
             [
              0.6666666666666666,
              "#ed7953"
             ],
             [
              0.7777777777777778,
              "#fb9f3a"
             ],
             [
              0.8888888888888888,
              "#fdca26"
             ],
             [
              1,
              "#f0f921"
             ]
            ],
            "type": "heatmap"
           }
          ],
          "heatmapgl": [
           {
            "colorbar": {
             "outlinewidth": 0,
             "ticks": ""
            },
            "colorscale": [
             [
              0,
              "#0d0887"
             ],
             [
              0.1111111111111111,
              "#46039f"
             ],
             [
              0.2222222222222222,
              "#7201a8"
             ],
             [
              0.3333333333333333,
              "#9c179e"
             ],
             [
              0.4444444444444444,
              "#bd3786"
             ],
             [
              0.5555555555555556,
              "#d8576b"
             ],
             [
              0.6666666666666666,
              "#ed7953"
             ],
             [
              0.7777777777777778,
              "#fb9f3a"
             ],
             [
              0.8888888888888888,
              "#fdca26"
             ],
             [
              1,
              "#f0f921"
             ]
            ],
            "type": "heatmapgl"
           }
          ],
          "histogram": [
           {
            "marker": {
             "pattern": {
              "fillmode": "overlay",
              "size": 10,
              "solidity": 0.2
             }
            },
            "type": "histogram"
           }
          ],
          "histogram2d": [
           {
            "colorbar": {
             "outlinewidth": 0,
             "ticks": ""
            },
            "colorscale": [
             [
              0,
              "#0d0887"
             ],
             [
              0.1111111111111111,
              "#46039f"
             ],
             [
              0.2222222222222222,
              "#7201a8"
             ],
             [
              0.3333333333333333,
              "#9c179e"
             ],
             [
              0.4444444444444444,
              "#bd3786"
             ],
             [
              0.5555555555555556,
              "#d8576b"
             ],
             [
              0.6666666666666666,
              "#ed7953"
             ],
             [
              0.7777777777777778,
              "#fb9f3a"
             ],
             [
              0.8888888888888888,
              "#fdca26"
             ],
             [
              1,
              "#f0f921"
             ]
            ],
            "type": "histogram2d"
           }
          ],
          "histogram2dcontour": [
           {
            "colorbar": {
             "outlinewidth": 0,
             "ticks": ""
            },
            "colorscale": [
             [
              0,
              "#0d0887"
             ],
             [
              0.1111111111111111,
              "#46039f"
             ],
             [
              0.2222222222222222,
              "#7201a8"
             ],
             [
              0.3333333333333333,
              "#9c179e"
             ],
             [
              0.4444444444444444,
              "#bd3786"
             ],
             [
              0.5555555555555556,
              "#d8576b"
             ],
             [
              0.6666666666666666,
              "#ed7953"
             ],
             [
              0.7777777777777778,
              "#fb9f3a"
             ],
             [
              0.8888888888888888,
              "#fdca26"
             ],
             [
              1,
              "#f0f921"
             ]
            ],
            "type": "histogram2dcontour"
           }
          ],
          "mesh3d": [
           {
            "colorbar": {
             "outlinewidth": 0,
             "ticks": ""
            },
            "type": "mesh3d"
           }
          ],
          "parcoords": [
           {
            "line": {
             "colorbar": {
              "outlinewidth": 0,
              "ticks": ""
             }
            },
            "type": "parcoords"
           }
          ],
          "pie": [
           {
            "automargin": true,
            "type": "pie"
           }
          ],
          "scatter": [
           {
            "fillpattern": {
             "fillmode": "overlay",
             "size": 10,
             "solidity": 0.2
            },
            "type": "scatter"
           }
          ],
          "scatter3d": [
           {
            "line": {
             "colorbar": {
              "outlinewidth": 0,
              "ticks": ""
             }
            },
            "marker": {
             "colorbar": {
              "outlinewidth": 0,
              "ticks": ""
             }
            },
            "type": "scatter3d"
           }
          ],
          "scattercarpet": [
           {
            "marker": {
             "colorbar": {
              "outlinewidth": 0,
              "ticks": ""
             }
            },
            "type": "scattercarpet"
           }
          ],
          "scattergeo": [
           {
            "marker": {
             "colorbar": {
              "outlinewidth": 0,
              "ticks": ""
             }
            },
            "type": "scattergeo"
           }
          ],
          "scattergl": [
           {
            "marker": {
             "colorbar": {
              "outlinewidth": 0,
              "ticks": ""
             }
            },
            "type": "scattergl"
           }
          ],
          "scattermapbox": [
           {
            "marker": {
             "colorbar": {
              "outlinewidth": 0,
              "ticks": ""
             }
            },
            "type": "scattermapbox"
           }
          ],
          "scatterpolar": [
           {
            "marker": {
             "colorbar": {
              "outlinewidth": 0,
              "ticks": ""
             }
            },
            "type": "scatterpolar"
           }
          ],
          "scatterpolargl": [
           {
            "marker": {
             "colorbar": {
              "outlinewidth": 0,
              "ticks": ""
             }
            },
            "type": "scatterpolargl"
           }
          ],
          "scatterternary": [
           {
            "marker": {
             "colorbar": {
              "outlinewidth": 0,
              "ticks": ""
             }
            },
            "type": "scatterternary"
           }
          ],
          "surface": [
           {
            "colorbar": {
             "outlinewidth": 0,
             "ticks": ""
            },
            "colorscale": [
             [
              0,
              "#0d0887"
             ],
             [
              0.1111111111111111,
              "#46039f"
             ],
             [
              0.2222222222222222,
              "#7201a8"
             ],
             [
              0.3333333333333333,
              "#9c179e"
             ],
             [
              0.4444444444444444,
              "#bd3786"
             ],
             [
              0.5555555555555556,
              "#d8576b"
             ],
             [
              0.6666666666666666,
              "#ed7953"
             ],
             [
              0.7777777777777778,
              "#fb9f3a"
             ],
             [
              0.8888888888888888,
              "#fdca26"
             ],
             [
              1,
              "#f0f921"
             ]
            ],
            "type": "surface"
           }
          ],
          "table": [
           {
            "cells": {
             "fill": {
              "color": "#EBF0F8"
             },
             "line": {
              "color": "white"
             }
            },
            "header": {
             "fill": {
              "color": "#C8D4E3"
             },
             "line": {
              "color": "white"
             }
            },
            "type": "table"
           }
          ]
         },
         "layout": {
          "annotationdefaults": {
           "arrowcolor": "#2a3f5f",
           "arrowhead": 0,
           "arrowwidth": 1
          },
          "autotypenumbers": "strict",
          "coloraxis": {
           "colorbar": {
            "outlinewidth": 0,
            "ticks": ""
           }
          },
          "colorscale": {
           "diverging": [
            [
             0,
             "#8e0152"
            ],
            [
             0.1,
             "#c51b7d"
            ],
            [
             0.2,
             "#de77ae"
            ],
            [
             0.3,
             "#f1b6da"
            ],
            [
             0.4,
             "#fde0ef"
            ],
            [
             0.5,
             "#f7f7f7"
            ],
            [
             0.6,
             "#e6f5d0"
            ],
            [
             0.7,
             "#b8e186"
            ],
            [
             0.8,
             "#7fbc41"
            ],
            [
             0.9,
             "#4d9221"
            ],
            [
             1,
             "#276419"
            ]
           ],
           "sequential": [
            [
             0,
             "#0d0887"
            ],
            [
             0.1111111111111111,
             "#46039f"
            ],
            [
             0.2222222222222222,
             "#7201a8"
            ],
            [
             0.3333333333333333,
             "#9c179e"
            ],
            [
             0.4444444444444444,
             "#bd3786"
            ],
            [
             0.5555555555555556,
             "#d8576b"
            ],
            [
             0.6666666666666666,
             "#ed7953"
            ],
            [
             0.7777777777777778,
             "#fb9f3a"
            ],
            [
             0.8888888888888888,
             "#fdca26"
            ],
            [
             1,
             "#f0f921"
            ]
           ],
           "sequentialminus": [
            [
             0,
             "#0d0887"
            ],
            [
             0.1111111111111111,
             "#46039f"
            ],
            [
             0.2222222222222222,
             "#7201a8"
            ],
            [
             0.3333333333333333,
             "#9c179e"
            ],
            [
             0.4444444444444444,
             "#bd3786"
            ],
            [
             0.5555555555555556,
             "#d8576b"
            ],
            [
             0.6666666666666666,
             "#ed7953"
            ],
            [
             0.7777777777777778,
             "#fb9f3a"
            ],
            [
             0.8888888888888888,
             "#fdca26"
            ],
            [
             1,
             "#f0f921"
            ]
           ]
          },
          "colorway": [
           "#636efa",
           "#EF553B",
           "#00cc96",
           "#ab63fa",
           "#FFA15A",
           "#19d3f3",
           "#FF6692",
           "#B6E880",
           "#FF97FF",
           "#FECB52"
          ],
          "font": {
           "color": "#2a3f5f"
          },
          "geo": {
           "bgcolor": "white",
           "lakecolor": "white",
           "landcolor": "#E5ECF6",
           "showlakes": true,
           "showland": true,
           "subunitcolor": "white"
          },
          "hoverlabel": {
           "align": "left"
          },
          "hovermode": "closest",
          "mapbox": {
           "style": "light"
          },
          "paper_bgcolor": "white",
          "plot_bgcolor": "#E5ECF6",
          "polar": {
           "angularaxis": {
            "gridcolor": "white",
            "linecolor": "white",
            "ticks": ""
           },
           "bgcolor": "#E5ECF6",
           "radialaxis": {
            "gridcolor": "white",
            "linecolor": "white",
            "ticks": ""
           }
          },
          "scene": {
           "xaxis": {
            "backgroundcolor": "#E5ECF6",
            "gridcolor": "white",
            "gridwidth": 2,
            "linecolor": "white",
            "showbackground": true,
            "ticks": "",
            "zerolinecolor": "white"
           },
           "yaxis": {
            "backgroundcolor": "#E5ECF6",
            "gridcolor": "white",
            "gridwidth": 2,
            "linecolor": "white",
            "showbackground": true,
            "ticks": "",
            "zerolinecolor": "white"
           },
           "zaxis": {
            "backgroundcolor": "#E5ECF6",
            "gridcolor": "white",
            "gridwidth": 2,
            "linecolor": "white",
            "showbackground": true,
            "ticks": "",
            "zerolinecolor": "white"
           }
          },
          "shapedefaults": {
           "line": {
            "color": "#2a3f5f"
           }
          },
          "ternary": {
           "aaxis": {
            "gridcolor": "white",
            "linecolor": "white",
            "ticks": ""
           },
           "baxis": {
            "gridcolor": "white",
            "linecolor": "white",
            "ticks": ""
           },
           "bgcolor": "#E5ECF6",
           "caxis": {
            "gridcolor": "white",
            "linecolor": "white",
            "ticks": ""
           }
          },
          "title": {
           "x": 0.05
          },
          "xaxis": {
           "automargin": true,
           "gridcolor": "white",
           "linecolor": "white",
           "ticks": "",
           "title": {
            "standoff": 15
           },
           "zerolinecolor": "white",
           "zerolinewidth": 2
          },
          "yaxis": {
           "automargin": true,
           "gridcolor": "white",
           "linecolor": "white",
           "ticks": "",
           "title": {
            "standoff": 15
           },
           "zerolinecolor": "white",
           "zerolinewidth": 2
          }
         }
        },
        "title": {
         "text": "Vapor composition vs. Liquid composition vs. Temperature"
        },
        "width": 800
       }
      }
     },
     "metadata": {},
     "output_type": "display_data"
    }
   ],
   "source": [
    "# 3D plot\n",
    "\n",
    "x_values = [x for x in solutions.keys()]\n",
    "y_but_values = [sol_dict['y_but'] for sol_dict in solutions.values()]\n",
    "y_h2O_values = [sol_dict['y_h2O'] for sol_dict in solutions.values()]\n",
    "Tsol_values = [sol_dict['Tsol'] for sol_dict in solutions.values()]\n",
    "\n",
    "# Create the figure and add scatter plots\n",
    "fig = go.Figure(data=[\n",
    "    go.Scatter3d(x=x_values, y=y_but_values, z=Tsol_values, mode='markers',\n",
    "                 marker=dict(size=6, color='red'), name='y_but'),\n",
    "    go.Scatter3d(x=x_values, y=y_h2O_values, z=Tsol_values, mode='markers',\n",
    "                 marker=dict(size=6, color='blue'), name='y_h2O')\n",
    "])\n",
    "\n",
    "# Set labels, title, and figure size\n",
    "fig.update_layout(\n",
    "    scene=dict(xaxis_title='x', yaxis_title='y', zaxis_title='Tsol'),\n",
    "    title='Vapor composition vs. Liquid composition vs. Temperature',\n",
    "    width=800,  # Set the figure width\n",
    "    height=600  # Set the figure height\n",
    ")\n",
    "\n",
    "# Show the plot\n",
    "fig.show()\n"
   ]
  }
 ],
 "metadata": {
  "kernelspec": {
   "display_name": "base",
   "language": "python",
   "name": "python3"
  },
  "language_info": {
   "codemirror_mode": {
    "name": "ipython",
    "version": 3
   },
   "file_extension": ".py",
   "mimetype": "text/x-python",
   "name": "python",
   "nbconvert_exporter": "python",
   "pygments_lexer": "ipython3",
   "version": "3.11.5"
  },
  "orig_nbformat": 4
 },
 "nbformat": 4,
 "nbformat_minor": 2
}
