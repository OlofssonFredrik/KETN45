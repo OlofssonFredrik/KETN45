{
 "cells": [
  {
   "cell_type": "code",
   "execution_count": 104,
   "metadata": {},
   "outputs": [],
   "source": [
    "import numpy as np\n",
    "import matplotlib.pyplot as plt\n",
    "from scipy.optimize import fsolve\n",
    "from scipy.optimize import root_scalar"
   ]
  },
  {
   "cell_type": "code",
   "execution_count": 105,
   "metadata": {},
   "outputs": [],
   "source": [
    "#Constants\n",
    "\n",
    "R = 8.314\n",
    "P = 1\n",
    "\n",
    "A_but = 9.9614\n",
    "B_but = 2664.0939\n",
    "C_but = -104.881\n",
    "A_h2O = 11.9647\n",
    "B_h2O = 3984.9273\n",
    "C_h2O = -39.734\n",
    "\n",
    "g12_g22 = 1034.3\n",
    "g21_g11 = 10098.50\n",
    "aij = 0.4118"
   ]
  },
  {
   "cell_type": "code",
   "execution_count": 106,
   "metadata": {},
   "outputs": [],
   "source": [
    "def molfrac_vapor(T, x):\n",
    "    x_but = x\n",
    "    x_h2O = 1 - x\n",
    "\n",
    "    tau_12 = g12_g22 / (R * T)\n",
    "    tau_21 = g21_g11 / (R * T)\n",
    "\n",
    "    G_12 = np.exp(-aij * tau_12)\n",
    "    G_21 = np.exp(-aij * tau_21)\n",
    "\n",
    "    gamma_but = np.exp(x_h2O**2 * (tau_21 * (G_21 / (x_but + x_h2O * G_21))**2 + (tau_12 * G_12) / (x_h2O + x_but * G_12)**2))\n",
    "    gamma_h2O = np.exp(x_but**2 * (tau_12 * (G_12 / (x_h2O + x_but * G_12))**2 + (tau_21 * G_21) / (x_but + x_h2O * G_21)**2))\n",
    "    \n",
    "    Psat_but = np.exp(A_but - B_but / (T + C_but))\n",
    "    Psat_h2O = np.exp(A_h2O - B_h2O / (T + C_h2O))\n",
    "    \n",
    "    y_but = gamma_but * x_but * Psat_but / P\n",
    "    y_h2O = gamma_h2O * x_h2O * Psat_h2O / P\n",
    "    \n",
    "    sum_y = y_but + y_h2O\n",
    "    \n",
    "    return sum_y - 1, y_but, y_h2O"
   ]
  },
  {
   "cell_type": "code",
   "execution_count": 107,
   "metadata": {},
   "outputs": [
    {
     "ename": "ValueError",
     "evalue": "object too deep for desired array",
     "output_type": "error",
     "traceback": [
      "\u001b[1;31m---------------------------------------------------------------------------\u001b[0m",
      "\u001b[1;31mValueError\u001b[0m                                Traceback (most recent call last)",
      "\u001b[1;31mValueError\u001b[0m: object too deep for desired array"
     ]
    },
    {
     "ename": "error",
     "evalue": "Result from function call is not a proper array of floats.",
     "output_type": "error",
     "traceback": [
      "\u001b[1;31m---------------------------------------------------------------------------\u001b[0m",
      "\u001b[1;31merror\u001b[0m                                     Traceback (most recent call last)",
      "Cell \u001b[1;32mIn[107], line 8\u001b[0m\n\u001b[0;32m      5\u001b[0m initial_guess \u001b[39m=\u001b[39m \u001b[39m373\u001b[39m\n\u001b[0;32m      7\u001b[0m \u001b[39mfor\u001b[39;00m i,x \u001b[39min\u001b[39;00m \u001b[39menumerate\u001b[39m(x_values):\n\u001b[1;32m----> 8\u001b[0m     sol, y_but, y_h20 \u001b[39m=\u001b[39m fsolve(molfrac_vapor, initial_guess, x)\n\u001b[0;32m      9\u001b[0m     T_solutions\u001b[39m.\u001b[39mappend(sol)\n\u001b[0;32m     10\u001b[0m     y_buts\u001b[39m.\u001b[39mappend(y_but)\n",
      "File \u001b[1;32m~\\AppData\\Local\\Packages\\PythonSoftwareFoundation.Python.3.11_qbz5n2kfra8p0\\LocalCache\\local-packages\\Python311\\site-packages\\scipy\\optimize\\_minpack_py.py:163\u001b[0m, in \u001b[0;36mfsolve\u001b[1;34m(func, x0, args, fprime, full_output, col_deriv, xtol, maxfev, band, epsfcn, factor, diag)\u001b[0m\n\u001b[0;32m     51\u001b[0m \u001b[39m\u001b[39m\u001b[39m\"\"\"\u001b[39;00m\n\u001b[0;32m     52\u001b[0m \u001b[39mFind the roots of a function.\u001b[39;00m\n\u001b[0;32m     53\u001b[0m \n\u001b[1;32m   (...)\u001b[0m\n\u001b[0;32m    153\u001b[0m \n\u001b[0;32m    154\u001b[0m \u001b[39m\"\"\"\u001b[39;00m\n\u001b[0;32m    155\u001b[0m options \u001b[39m=\u001b[39m {\u001b[39m'\u001b[39m\u001b[39mcol_deriv\u001b[39m\u001b[39m'\u001b[39m: col_deriv,\n\u001b[0;32m    156\u001b[0m            \u001b[39m'\u001b[39m\u001b[39mxtol\u001b[39m\u001b[39m'\u001b[39m: xtol,\n\u001b[0;32m    157\u001b[0m            \u001b[39m'\u001b[39m\u001b[39mmaxfev\u001b[39m\u001b[39m'\u001b[39m: maxfev,\n\u001b[1;32m   (...)\u001b[0m\n\u001b[0;32m    160\u001b[0m            \u001b[39m'\u001b[39m\u001b[39mfactor\u001b[39m\u001b[39m'\u001b[39m: factor,\n\u001b[0;32m    161\u001b[0m            \u001b[39m'\u001b[39m\u001b[39mdiag\u001b[39m\u001b[39m'\u001b[39m: diag}\n\u001b[1;32m--> 163\u001b[0m res \u001b[39m=\u001b[39m _root_hybr(func, x0, args, jac\u001b[39m=\u001b[39;49mfprime, \u001b[39m*\u001b[39;49m\u001b[39m*\u001b[39;49moptions)\n\u001b[0;32m    164\u001b[0m \u001b[39mif\u001b[39;00m full_output:\n\u001b[0;32m    165\u001b[0m     x \u001b[39m=\u001b[39m res[\u001b[39m'\u001b[39m\u001b[39mx\u001b[39m\u001b[39m'\u001b[39m]\n",
      "File \u001b[1;32m~\\AppData\\Local\\Packages\\PythonSoftwareFoundation.Python.3.11_qbz5n2kfra8p0\\LocalCache\\local-packages\\Python311\\site-packages\\scipy\\optimize\\_minpack_py.py:240\u001b[0m, in \u001b[0;36m_root_hybr\u001b[1;34m(func, x0, args, jac, col_deriv, xtol, maxfev, band, eps, factor, diag, **unknown_options)\u001b[0m\n\u001b[0;32m    238\u001b[0m     \u001b[39mif\u001b[39;00m maxfev \u001b[39m==\u001b[39m \u001b[39m0\u001b[39m:\n\u001b[0;32m    239\u001b[0m         maxfev \u001b[39m=\u001b[39m \u001b[39m200\u001b[39m \u001b[39m*\u001b[39m (n \u001b[39m+\u001b[39m \u001b[39m1\u001b[39m)\n\u001b[1;32m--> 240\u001b[0m     retval \u001b[39m=\u001b[39m _minpack\u001b[39m.\u001b[39;49m_hybrd(func, x0, args, \u001b[39m1\u001b[39;49m, xtol, maxfev,\n\u001b[0;32m    241\u001b[0m                              ml, mu, epsfcn, factor, diag)\n\u001b[0;32m    242\u001b[0m \u001b[39melse\u001b[39;00m:\n\u001b[0;32m    243\u001b[0m     _check_func(\u001b[39m'\u001b[39m\u001b[39mfsolve\u001b[39m\u001b[39m'\u001b[39m, \u001b[39m'\u001b[39m\u001b[39mfprime\u001b[39m\u001b[39m'\u001b[39m, Dfun, x0, args, n, (n, n))\n",
      "\u001b[1;31merror\u001b[0m: Result from function call is not a proper array of floats."
     ]
    }
   ],
   "source": [
    "x_values = [0.1, 0.2, 0.3, 0.4, 0.5, 0.6, 0.7, 0.8, 0.9]\n",
    "T_solutions = []\n",
    "y_buts = []\n",
    "y_h2Os = []\n",
    "initial_guess = 373\n",
    "\n",
    "for i,x in enumerate(x_values):\n",
    "    sol, y_but, y_h20 = fsolve(molfrac_vapor, initial_guess, x)\n",
    "    T_solutions.append(sol)\n",
    "    y_buts.append(y_but)\n",
    "    y_h2Os.append(y_h20)\n",
    "\n",
    "print(\"Solutions for T:\", T_solutions)\n",
    "print(\"Solutions for y_but:\", y_buts)\n",
    "print(\"Solutions for y_h2O:\", y_h2Os)\n",
    "print(f\"mean: {np.mean(T_solutions)}\")"
   ]
  },
  {
   "cell_type": "code",
   "execution_count": null,
   "metadata": {},
   "outputs": [],
   "source": []
  }
 ],
 "metadata": {
  "kernelspec": {
   "display_name": "base",
   "language": "python",
   "name": "python3"
  },
  "language_info": {
   "codemirror_mode": {
    "name": "ipython",
    "version": 3
   },
   "file_extension": ".py",
   "mimetype": "text/x-python",
   "name": "python",
   "nbconvert_exporter": "python",
   "pygments_lexer": "ipython3",
   "version": "3.11.5"
  },
  "orig_nbformat": 4
 },
 "nbformat": 4,
 "nbformat_minor": 2
}
