{
 "cells": [
  {
   "cell_type": "code",
   "execution_count": 41,
   "metadata": {},
   "outputs": [],
   "source": [
    "import numpy as np\n",
    "import matplotlib.pyplot as plt\n",
    "from scipy.optimize import fsolve"
   ]
  },
  {
   "cell_type": "code",
   "execution_count": 42,
   "metadata": {},
   "outputs": [],
   "source": [
    "R = 8.314\n",
    "\n",
    "P = 101325\n",
    "\n",
    "A_but = 9.96\n",
    "B_but = 2664\n",
    "C_but = -105\n",
    "A_h2O = 11.9\n",
    "B_h2O = 3984\n",
    "C_h2O = -39.7\n",
    "\n",
    "g12_g22 = 1034\n",
    "g21_g11 = 10098\n",
    "\n",
    "aij = 0.4118"
   ]
  },
  {
   "cell_type": "code",
   "execution_count": 43,
   "metadata": {},
   "outputs": [
    {
     "name": "stdout",
     "output_type": "stream",
     "text": [
      "Solutions for T: [13878.461087517484, 20670.54831648396, 48018.80266549956, 82511678344.59387, 31247545486.808937, 7811878530.996624, 3906002009.4336567, 278.925140047263, 455.4212930234773]\n"
     ]
    },
    {
     "name": "stderr",
     "output_type": "stream",
     "text": [
      "c:\\Users\\olofs\\anaconda3\\lib\\site-packages\\scipy\\optimize\\minpack.py:175: RuntimeWarning: The iteration is not making good progress, as measured by the \n",
      "  improvement from the last ten iterations.\n",
      "  warnings.warn(msg, RuntimeWarning)\n"
     ]
    }
   ],
   "source": [
    "def molfrac_vapor(T, x):\n",
    "    tau_12 = g12_g22 / (R * T)\n",
    "    tau_21 = g21_g11 / (R * T)\n",
    "    G_12 = np.exp(-aij * tau_12)\n",
    "    G_21 = np.exp(-aij * tau_21)\n",
    "    \n",
    "    x_but = x\n",
    "    x_h2O = 1 - x\n",
    "    \n",
    "    gamma_but = np.exp(x_h2O**2 * (tau_12 * (G_21 / (x_but + x_h2O * G_12))**2 + (tau_12 * G_12) / (x_h2O + x_but * G_21)**2))\n",
    "    gamma_h2O = np.exp(x_but**2 * (tau_21 * (G_12 / (x_h2O + x_but * G_21))**2 + (tau_21 * G_21) / (x_but + x_h2O * G_12)**2))\n",
    "    \n",
    "    Psat_but = np.exp(A_but - B_but / (T + C_but))\n",
    "    Psat_h2O = np.exp(A_h2O - B_h2O / (T + C_h2O))\n",
    "    \n",
    "    y_but = gamma_but * x_but * Psat_but / P\n",
    "    y_h2O = gamma_h2O * x_h2O * Psat_h2O / P\n",
    "    \n",
    "    sum_y = y_but + y_h2O\n",
    "    \n",
    "    return sum_y - 1  # fsolve finds the root of the function, so we set it to zero\n",
    "\n",
    "x_values = [0.1, 0.2, 0.3, 0.4, 0.5, 0.6, 0.7, 0.8, 0.9]\n",
    "T_solutions = []\n",
    "\n",
    "for x in x_values:\n",
    "    sol, = fsolve(molfrac_vapor, 298, args=(x,))\n",
    "    T_solutions.append(sol)\n",
    "\n",
    "print(\"Solutions for T:\", T_solutions)"
   ]
  }
 ],
 "metadata": {
  "kernelspec": {
   "display_name": "base",
   "language": "python",
   "name": "python3"
  },
  "language_info": {
   "codemirror_mode": {
    "name": "ipython",
    "version": 3
   },
   "file_extension": ".py",
   "mimetype": "text/x-python",
   "name": "python",
   "nbconvert_exporter": "python",
   "pygments_lexer": "ipython3",
   "version": "3.9.12"
  },
  "orig_nbformat": 4
 },
 "nbformat": 4,
 "nbformat_minor": 2
}
