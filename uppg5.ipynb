{
 "cells": [
  {
   "cell_type": "code",
   "execution_count": null,
   "metadata": {},
   "outputs": [],
   "source": [
    "import numpy as np\n",
    "import matplotlib.pyplot as plt\n",
    "from scipy.optimize import fsolve\n",
    "from scipy.optimize import root_scalar"
   ]
  },
  {
   "cell_type": "code",
   "execution_count": null,
   "metadata": {},
   "outputs": [],
   "source": [
    "#Constants\n",
    "\n",
    "R = 8.314\n",
    "P = 1\n",
    "\n",
    "A_but = 9.9614\n",
    "B_but = 2664.0939\n",
    "C_but = -104.881\n",
    "A_h2O = 11.9647\n",
    "B_h2O = 3984.9273\n",
    "C_h2O = -39.734\n",
    "\n",
    "g12_g22 = 1034.3\n",
    "g21_g11 = 10098.50\n",
    "aij = 0.4118"
   ]
  },
  {
   "cell_type": "code",
   "execution_count": null,
   "metadata": {},
   "outputs": [],
   "source": [
    "def molfrac_vapor(T, x):\n",
    "    x_but = x\n",
    "    x_h2O = 1 - x\n",
    "\n",
    "    tau_12 = g12_g22 / (R * T)\n",
    "    tau_21 = g21_g11 / (R * T)\n",
    "\n",
    "    G_12 = np.exp(-aij * tau_12)\n",
    "    G_21 = np.exp(-aij * tau_21)\n",
    "\n",
    "    gamma_but = np.exp(x_h2O**2 * (tau_21 * (G_21 / (x_but + x_h2O * G_21))**2 + (tau_12 * G_12) / (x_h2O + x_but * G_12)**2))\n",
    "    gamma_h2O = np.exp(x_but**2 * (tau_12 * (G_12 / (x_h2O + x_but * G_12))**2 + (tau_21 * G_21) / (x_but + x_h2O * G_21)**2))\n",
    "    \n",
    "    Psat_but = np.exp(A_but - B_but / (T + C_but))\n",
    "    Psat_h2O = np.exp(A_h2O - B_h2O / (T + C_h2O))\n",
    "    \n",
    "    y_but = gamma_but * x_but * Psat_but / P\n",
    "    y_h2O = gamma_h2O * x_h2O * Psat_h2O / P\n",
    "    \n",
    "    sum_y = y_but + y_h2O\n",
    "    \n",
    "    return sum_y - 1  "
   ]
  },
  {
   "cell_type": "code",
   "execution_count": null,
   "metadata": {},
   "outputs": [],
   "source": [
    "x_values = [0.1, 0.2, 0.3, 0.4, 0.5, 0.6, 0.7, 0.8, 0.9]\n",
    "T_solutions = []\n",
    "\n",
    "for i,x in enumerate(x_values):\n",
    "    sol, = fsolve(molfrac_vapor, 373, x)\n",
    "    T_solutions.append(sol)\n",
    "\n",
    "print(\"Solutions for T:\", T_solutions)\n",
    "print(f\"mean: {np.mean(T_solutions)}\")"
   ]
  },
  {
   "cell_type": "code",
   "execution_count": null,
   "metadata": {},
   "outputs": [],
   "source": [
    "T_min = 300  # Minimum temperature in K\n",
    "T_max = 450  # Maximum temperature in K\n",
    "\n",
    "x_values = [0.1, 0.2, 0.3, 0.4, 0.5, 0.6, 0.7, 0.8, 0.9]\n",
    "T_solutions = []\n",
    "\n",
    "for i, x in enumerate(x_values):\n",
    "    result = root_scalar(molfrac_vapor, bracket=[T_min, T_max], args=x)\n",
    "    print(f\"result: {result}\")\n",
    "    \n",
    "    if result.converged:\n",
    "        T_solutions.append(result.root)\n",
    "    else:\n",
    "        T_solutions.append(None)\n",
    "        print(f\"No solution found for x = {x} within the range [{T_min}, {T_max}]\")\n",
    "\n",
    "print(\"Solutions for T:\", T_solutions)"
   ]
  }
 ],
 "metadata": {
  "kernelspec": {
   "display_name": "base",
   "language": "python",
   "name": "python3"
  },
  "language_info": {
   "codemirror_mode": {
    "name": "ipython",
    "version": 3
   },
   "file_extension": ".py",
   "mimetype": "text/x-python",
   "name": "python",
   "nbconvert_exporter": "python",
   "pygments_lexer": "ipython3",
   "version": "3.11.5"
  },
  "orig_nbformat": 4
 },
 "nbformat": 4,
 "nbformat_minor": 2
}
