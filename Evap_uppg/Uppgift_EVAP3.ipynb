{
 "cells": [
  {
   "cell_type": "code",
   "execution_count": 1,
   "metadata": {},
   "outputs": [],
   "source": [
    "import scipy\n",
    "import numpy as np\n",
    "import matplotlib"
   ]
  },
  {
   "cell_type": "code",
   "execution_count": 2,
   "metadata": {},
   "outputs": [],
   "source": [
    "P1 = 180*1e3 #kpa \n",
    "T1 = 116.912 #C\n",
    "P2 = 80*1e3\n",
    "T2 = 93.4854 #C\n",
    "K2 = 15.4 #kg/s\n",
    "#hV2 = H(T2)\n",
    "HV2 = 2665.18#kj/kg\n",
    "#hK3 = h(T2)\n",
    "hK3 = 391.639#kj/kg\n",
    "#hK2 = h(T1)\n",
    "hK2 = 490.75#kj/kg \n",
    "HVflash = HV2\n",
    "hKflash = hK3"
   ]
  },
  {
   "cell_type": "code",
   "execution_count": 5,
   "metadata": {},
   "outputs": [
    {
     "name": "stdout",
     "output_type": "stream",
     "text": [
      "prop: 0.044\n"
     ]
    }
   ],
   "source": [
    "#Energy balance over condensator \n",
    "#eq1 Vflash*HVflash + Kflash*hKflash - K2*hK2 = 0\n",
    "# => Vflash*HV2 + Kflash*hK3 - K2*hK2 = 0\n",
    "#Mass balance over condenstaor \n",
    "#eq2 Vflash + Klfash - K2 = 0\n",
    "\n",
    "#rewritten \n",
    "#eq1: Vflash * HVflash  + Kflash * hKflash  =  K2*hK2 \n",
    "#eq2: Vflash +            Kflash            = K2 \n",
    "\n",
    "X = np.array([[HVflash, hKflash], \n",
    "              [1, 1]])\n",
    "\n",
    "y = np.array([K2*hK2, \n",
    "              K2])\n",
    "\n",
    "\n",
    "[Vflash, Kflash] = np.linalg.solve(X, y)\n",
    "Prop = Vflash/K2\n",
    "print(f\"prop: {Prop:.3f}\")\n"
   ]
  },
  {
   "cell_type": "code",
   "execution_count": 4,
   "metadata": {},
   "outputs": [
    {
     "name": "stdout",
     "output_type": "stream",
     "text": [
      "Kfalsh: 14.73\n",
      "Vflash: 0.67\n",
      "Proportion of condensate 2 being flashed (in %): 4.359\n"
     ]
    }
   ],
   "source": [
    "print(\"Kfalsh:\", round(Kflash,2))\n",
    "print(\"Vflash:\", round(Vflash,2))\n",
    "print(\"Proportion of condensate 2 being flashed (in %):\", round(Prop*100, 3))"
   ]
  }
 ],
 "metadata": {
  "kernelspec": {
   "display_name": "Python 3",
   "language": "python",
   "name": "python3"
  },
  "language_info": {
   "codemirror_mode": {
    "name": "ipython",
    "version": 3
   },
   "file_extension": ".py",
   "mimetype": "text/x-python",
   "name": "python",
   "nbconvert_exporter": "python",
   "pygments_lexer": "ipython3",
   "version": "3.11.5"
  },
  "orig_nbformat": 4
 },
 "nbformat": 4,
 "nbformat_minor": 2
}
