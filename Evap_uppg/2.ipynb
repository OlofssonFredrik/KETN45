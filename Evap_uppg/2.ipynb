{
 "cells": [
  {
   "cell_type": "code",
   "execution_count": 3,
   "metadata": {},
   "outputs": [],
   "source": [
    "xF = 0.25\n",
    "xL1 = 0.5\n",
    "Ts_Faren = 320\n",
    "T_Faren = 120\n",
    "\n",
    "def f_to_c(f):\n",
    "    return (f - 32) * 5/9\n",
    "\n",
    "Ts = f_to_c(320)\n",
    "T = f_to_c(120)"
   ]
  },
  {
   "cell_type": "code",
   "execution_count": 4,
   "metadata": {},
   "outputs": [],
   "source": [
    "F = 10000 #räknebas\n",
    "L1 = F*xF / xL1\n",
    "\n",
    "V = F - L1\n",
    "V1 = V2 = V3 = V\n",
    "\n",
    "L1 = F-V\n",
    "\n",
    "xL1 = F*xF/L1\n"
   ]
  }
 ],
 "metadata": {
  "kernelspec": {
   "display_name": "Python 3",
   "language": "python",
   "name": "python3"
  },
  "language_info": {
   "codemirror_mode": {
    "name": "ipython",
    "version": 3
   },
   "file_extension": ".py",
   "mimetype": "text/x-python",
   "name": "python",
   "nbconvert_exporter": "python",
   "pygments_lexer": "ipython3",
   "version": "3.11.5"
  },
  "orig_nbformat": 4
 },
 "nbformat": 4,
 "nbformat_minor": 2
}
