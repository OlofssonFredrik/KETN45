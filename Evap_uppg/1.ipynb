{
 "cells": [
  {
   "cell_type": "code",
   "execution_count": 42,
   "metadata": {},
   "outputs": [],
   "source": [
    "#imports"
   ]
  },
  {
   "cell_type": "code",
   "execution_count": 43,
   "metadata": {},
   "outputs": [],
   "source": [
    "F = 60000/3600 # kg/h\n",
    "start_Na_OH = 0.44 #%\n",
    "end_Na_OH = 0.65 #%\n",
    "P = 3 #atm\n",
    "T = 40 #°C\n",
    "rho = 1450 #kg/m3\n",
    "k = 2000 #W/m2K\n",
    "hf = h_44 = 270\n",
    "hl = h_65 = 600 #? or 550\n",
    "\n",
    "L = F*start_Na_OH/end_Na_OH\n",
    "V = F-L\n",
    "\n",
    "Ts = 133.52\n",
    "\n",
    "Hs = 2724\n",
    "hk = 167\n",
    "Hv = 2573\n",
    "\n",
    "S = (V*Hv+L*hl-F*hf)/(Hs-hk)\n",
    "\n",
    "A = 1000*S*(Hs-hk)/(k*(Ts-T))"
   ]
  },
  {
   "cell_type": "code",
   "execution_count": 44,
   "metadata": {},
   "outputs": [
    {
     "name": "stdout",
     "output_type": "stream",
     "text": [
      "V = 5.385 kg/s\n",
      "L = 11.282 kg/s\n",
      "S = 6.306 kg/s\n",
      "A = 86.205 m2\n"
     ]
    }
   ],
   "source": [
    "print(f\"V = {V:.3f} kg/s\")\n",
    "print(f\"L = {L:.3f} kg/s\")\n",
    "\n",
    "print(f\"S = {S:.3f} kg/s\")\n",
    "\n",
    "print(f\"A = {A:.3f} m2\")"
   ]
  }
 ],
 "metadata": {
  "kernelspec": {
   "display_name": "Python 3",
   "language": "python",
   "name": "python3"
  },
  "language_info": {
   "codemirror_mode": {
    "name": "ipython",
    "version": 3
   },
   "file_extension": ".py",
   "mimetype": "text/x-python",
   "name": "python",
   "nbconvert_exporter": "python",
   "pygments_lexer": "ipython3",
   "version": "3.11.5"
  },
  "orig_nbformat": 4
 },
 "nbformat": 4,
 "nbformat_minor": 2
}
