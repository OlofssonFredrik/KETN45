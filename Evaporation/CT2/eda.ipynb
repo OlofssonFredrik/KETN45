{
 "cells": [
  {
   "cell_type": "code",
   "execution_count": 9,
   "metadata": {},
   "outputs": [],
   "source": [
    "import math\n",
    "import numpy as np\n",
    "from scipy.optimize import root, fsolve\n",
    "from H_steam import H_steam\n",
    "from hL_black_liquor import hL_black_liquor\n",
    "from BPE import BPE\n",
    "from k_black_liquor import k_black_liquor"
   ]
  },
  {
   "cell_type": "code",
   "execution_count": 10,
   "metadata": {},
   "outputs": [],
   "source": [
    "def known():\n",
    "    F=2.5 # kg/s                     Feed flux\n",
    "    xF=0.150   # kg dry matter/kg total   Feed dry matter content \n",
    "    xL1=0.200 # kg dry matter/kg total   Dry matter content from last evaporator\n",
    "    Tf=95     # degrees C                Feed temperature\n",
    "    A1=30     #m2\n",
    "    A2= 45      #m2\n",
    "    A3=50       #m2\n",
    "    k1=2500      #W/m2/K                Apparell  Overall heat transfer coeff\n",
    "    k2=1500    #W/m2/K               Apparell   Overall heat transfer coeff\n",
    "    k3=1200    # W/m2/K               Apparell   Overall heat transfer coeff\n",
    "    Ps = 320000 #Pressure of fresh steam in Pa\n",
    "\n",
    "    return F, xF, Tf, Ps, xL1, k1, k2, k3, A1, A2, A3\n",
    "\n",
    "def Hv(T):\n",
    "    H_v = 2496.4+2.26*T-7.34808*10**-3*T**2+3.38602*10**-5*T**3-8.40678*10**-8*T**4\n",
    "    return H_v\n",
    "    \n",
    "def hL(T):\n",
    "    h_L=4.19*T\n",
    "    return h_L\n",
    "\n",
    "def Tsat(Psat):\n",
    "    Tsat = 3816.44/(18.3036-np.log(Psat/133.32))-227.03\n",
    "    return Tsat"
   ]
  },
  {
   "cell_type": "code",
   "execution_count": 11,
   "metadata": {},
   "outputs": [],
   "source": [
    "def evaporator(X):\n",
    "    [S,V1,V2,V3,L1,L2,L3,T1,T2,T3,xL2, xL3]=X\n",
    "\n",
    "    [F, xF, Tf, Ps, xL1, k1, k2, k3, A1, A2, A3]=known()\n",
    "\n",
    "    Ts = Tsat(Ps)\n",
    "\n",
    "    Hs=Hv(Ts)\n",
    "    HV1=Hv(T1) #V1\n",
    "    HV2=Hv(T2) #V2\n",
    "    HV3=Hv(T3) #V3\n",
    "\n",
    "    hf = hL(Tf) #feed\n",
    "    hL1 = hL(T1) #L1\n",
    "    hL2 = hL(T2) #L2\n",
    "    hL3 = hL(T3) #L3\n",
    "    \n",
    "    hk1 = hL(T1) #k1\n",
    "    hk2 = hL(T2) #k2\n",
    "    hk3 = hL(T3) #k3\n",
    "    \n",
    "    Y=X*0\n",
    "    \n",
    "    #evaporator 1\n",
    "    Y[0]=V1+L1-F #tot MB\n",
    "    Y[1]=L1*xL1 - F*xF #MB solids\n",
    "    Y[2]=V1*HV1 + L1*hL1 - F*hf - S*(Hs-hk1)    #EB för evaporator 1\n",
    "    Y[3]=k1*A1*(Ts-T1) - S*(Hs-hk1)             #EB för heat ex 1\n",
    "    \n",
    "    #evaporator 2\n",
    "    Y[4]=V2+L2-L1 #tot MB\n",
    "    Y[5]=L2*xL2 - L1*xL1 #MB solids\n",
    "    Y[6]=V2*HV2 + L2*hL2 - L1*hL1 - V1*(HV1-hk2) #EB för evaporator 2\n",
    "    Y[7]=k2*A2*(T1-T2) - V1*(HV1-hk2)      #EB för heat ex 2\n",
    "    \n",
    "    #evaporator 3\n",
    "    Y[8]=V3+L3-L2 #tot MB\n",
    "    Y[9]=L3*xL3 - L2*xL2 #MB solids\n",
    "    Y[10]=V3*HV3 + L3*hL3 - L2*hL2 - V2*(HV2-hk3)  #EB för evaporator 3\n",
    "    Y[11]=k3*A3*(T2-T3) - V2*(HV2-hk3)       #EB för heat ex 3\n",
    "    \n",
    "    return Y"
   ]
  },
  {
   "cell_type": "code",
   "execution_count": 12,
   "metadata": {},
   "outputs": [
    {
     "name": "stdout",
     "output_type": "stream",
     "text": [
      "sol: [  0.82287975   0.625        0.62508034   0.62514345   1.875\n",
      "   1.24991966   0.62477621 135.71630379 135.69634704 135.67389211\n",
      "   0.29934279   0.5967107 ]\n"
     ]
    }
   ],
   "source": [
    "[F, xF, Tf, Ps, xL1, k1, k2, k3, A1, A2, A3]=known()\n",
    "\n",
    "# guess=np.array([7,7,7,7,7,7,7,200,90,90,0.425,0.425,0.425]) \n",
    "guess=np.array([2.5,1,1,1,1,1,1,90,90,90,0.425,0.425]) \n",
    "\n",
    "sol = fsolve(evaporator, guess)\n",
    "print(f\"sol: {sol}\")\n",
    "\n",
    "[S,V1,V2,V3,L1,L2,L3,T1,T2,T3,xL2, xL3]=sol"
   ]
  },
  {
   "cell_type": "code",
   "execution_count": 13,
   "metadata": {},
   "outputs": [
    {
     "name": "stdout",
     "output_type": "stream",
     "text": [
      "Steam flux 0.82 kg/s\n",
      "Vapor flux for 1 0.62 kg/s\n",
      "Vapor flux for 2 0.63 kg/s\n",
      "Vapor flux for 3 0.63 kg/s\n",
      "Liquid flux for 1 1.88 kg/s\n",
      "Liquid flux for 2 1.25 kg/s\n",
      "Liquid flux for 3 0.62 kg/s\n",
      "Temperature for 1 135.72 Celsius\n",
      "Temperature for 2 135.70 Celsius\n",
      "Temperature for 3 135.67 Celsius\n",
      "Molar fraction for L2 0.30 kg/kg\n",
      "Molar fraction for L3 0.60 kg/kg\n",
      "S/Vtot 0.4388168242168706\n",
      "Vtot/S 2.2788551960938106\n"
     ]
    }
   ],
   "source": [
    "print('Steam flux', f'{S:.2f}', 'kg/s')\n",
    "print('Vapor flux for 1', f'{V1:.2f}', 'kg/s')\n",
    "print('Vapor flux for 2', f'{V2:.2f}', 'kg/s')\n",
    "print('Vapor flux for 3', f'{V3:.2f}', 'kg/s')\n",
    "print('Liquid flux for 1', f'{L1:.2f}', 'kg/s')\n",
    "print('Liquid flux for 2', f'{L2:.2f}', 'kg/s')\n",
    "print('Liquid flux for 3', f'{L3:.2f}', 'kg/s')\n",
    "print('Temperature for 1', f'{T1:.2f}', 'Celsius')\n",
    "print('Temperature for 2', f'{T2:.2f}', 'Celsius')\n",
    "print('Temperature for 3', f'{T3:.2f}', 'Celsius')\n",
    "print('Molar fraction for L2', f'{xL2:.2f}', 'kg/kg')\n",
    "print('Molar fraction for L3', f'{xL3:.2f}', 'kg/kg')\n",
    "print('S/Vtot',S/(V1+V2+V3))\n",
    "print('Vtot/S',(V1+V2+V3)/S)"
   ]
  }
 ],
 "metadata": {
  "kernelspec": {
   "display_name": "Python 3",
   "language": "python",
   "name": "python3"
  },
  "language_info": {
   "codemirror_mode": {
    "name": "ipython",
    "version": 3
   },
   "file_extension": ".py",
   "mimetype": "text/x-python",
   "name": "python",
   "nbconvert_exporter": "python",
   "pygments_lexer": "ipython3",
   "version": "3.11.5"
  },
  "orig_nbformat": 4
 },
 "nbformat": 4,
 "nbformat_minor": 2
}
