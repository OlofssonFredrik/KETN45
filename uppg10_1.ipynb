{
 "cells": [
  {
   "cell_type": "code",
   "execution_count": 7,
   "metadata": {},
   "outputs": [],
   "source": [
    "#Imports\n",
    "\n"
   ]
  },
  {
   "cell_type": "code",
   "execution_count": 8,
   "metadata": {},
   "outputs": [],
   "source": [
    "#10.1a)\n",
    "\n",
    "F = 150\n",
    "\n",
    "n_Pent = 0.05\n",
    "n_Hex = 0.3\n",
    "n_Hept = 0.45\n",
    "n_Oct = 0.2\n",
    "\n",
    "K_Pent = 3.726\n",
    "K_Hex = 1.5373\n",
    "K_Hept = 0.6571\n",
    "K_Oct = 0.284\n",
    "\n",
    "T_boil_Pent = 36.3\n",
    "T_boil_Hex = 69\n",
    "T_boil_Hept = 98.47\n",
    "T_boil_Oct = 125.7\n",
    "\n",
    "R_min_1 = 1.406\n",
    "R_min_2 = 4.092\n",
    "R_min_3 = 0.946\n",
    "\n",
    "D_pent = F*n_Pent\n",
    "D_hex = F*n_Hex\n",
    "B_hept = F*n_Hept\n",
    "B_oct = F*n_Oct\n",
    "\n",
    "D = D_pent + D_hex\n",
    "B = B_hept + B_oct\n",
    "\n",
    "F = D + B\n",
    "D = D_pent+D_hex\n",
    "B = D_hept+B_oct\n",
    "\n",
    "DD_pent = D_pent\n",
    "DD_hex = D_hex\n",
    "BB_hept = B_hept\n",
    "BB_oct = B_oct\n",
    "\n",
    "n_D_pent = D_pent/D\n",
    "n_D_hex = D_hex/D\n",
    "n_B_hept = B_hept/B\n",
    "n_B_oct = B_oct/B\n"
   ]
  },
  {
   "cell_type": "code",
   "execution_count": 13,
   "metadata": {},
   "outputs": [],
   "source": [
    "#10.1b)\n",
    "\n",
    "V_1 = K_Pent*D_pent + K_Hex*D_hex + K_Hept*B_hept + K_Oct*B_oct\n",
    "\n",
    "V_2 = K_Pent*D_pent + K_Hex*D_hex\n",
    "\n",
    "V_3 = K_Hept*B_hept + K_Oct*B_oct"
   ]
  }
 ],
 "metadata": {
  "kernelspec": {
   "display_name": "Python 3",
   "language": "python",
   "name": "python3"
  },
  "language_info": {
   "codemirror_mode": {
    "name": "ipython",
    "version": 3
   },
   "file_extension": ".py",
   "mimetype": "text/x-python",
   "name": "python",
   "nbconvert_exporter": "python",
   "pygments_lexer": "ipython3",
   "version": "3.11.5"
  },
  "orig_nbformat": 4
 },
 "nbformat": 4,
 "nbformat_minor": 2
}
